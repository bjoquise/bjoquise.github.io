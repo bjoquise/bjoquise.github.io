{
 "cells": [
  {
   "cell_type": "markdown",
   "id": "618c6d97",
   "metadata": {
    "id": "618c6d97"
   },
   "source": [
    "# Milestone 2: Additional Extraction, Transform, and Load (ETL) + Exploratory Data Analysis (EDA), and Model Proposal\n",
    "\n",
    "## NBA Shot Selection Analysis: Who is actually clutch?\n",
    "\n",
    "**By JoQuise Bridges**\n",
    "\n",
    "This write up will walk you through the datasets that I am considering working with and why.\n",
    "\n",
    "**My Webpage:** [bjoquise's Github](https://github.com/users/bjoquise/projects/1/views/1) \n",
    "\n",
    "**My Github Page:** [bjoquise.github.io](https://bjoquise.github.io)"
   ]
  },
  {
   "cell_type": "markdown",
   "id": "8771912b-50bb-45c5-92b6-2816408d0f03",
   "metadata": {
    "id": "52d95e4a"
   },
   "source": [
    "## Setup and Imports\n",
    "\n",
    "I learned the hard way to remember to install the correct items and packages for this to all work correctly. So saving some time: \n",
    "\n"
   ]
  },
  {
   "cell_type": "code",
   "execution_count": 1,
   "id": "11982a48-e052-4e35-8d2c-b2461342648d",
   "metadata": {},
   "outputs": [
    {
     "name": "stdout",
     "output_type": "stream",
     "text": [
      "Collecting lxml\n",
      "  Downloading lxml-5.3.0-cp311-cp311-manylinux_2_28_aarch64.whl.metadata (3.8 kB)\n",
      "Downloading lxml-5.3.0-cp311-cp311-manylinux_2_28_aarch64.whl (4.8 MB)\n",
      "\u001b[2K   \u001b[90m━━━━━━━━━━━━━━━━━━━━━━━━━━━━━━━━━━━━━━━━\u001b[0m \u001b[32m4.8/4.8 MB\u001b[0m \u001b[31m19.4 MB/s\u001b[0m eta \u001b[36m0:00:00\u001b[0ma \u001b[36m0:00:01\u001b[0m\n",
      "\u001b[?25hInstalling collected packages: lxml\n",
      "Successfully installed lxml-5.3.0\n",
      "Collecting html5lib\n",
      "  Downloading html5lib-1.1-py2.py3-none-any.whl.metadata (16 kB)\n",
      "Requirement already satisfied: six>=1.9 in /opt/conda/lib/python3.11/site-packages (from html5lib) (1.16.0)\n",
      "Requirement already satisfied: webencodings in /opt/conda/lib/python3.11/site-packages (from html5lib) (0.5.1)\n",
      "Downloading html5lib-1.1-py2.py3-none-any.whl (112 kB)\n",
      "\u001b[2K   \u001b[90m━━━━━━━━━━━━━━━━━━━━━━━━━━━━━━━━━━━━━━━━\u001b[0m \u001b[32m112.2/112.2 kB\u001b[0m \u001b[31m3.7 MB/s\u001b[0m eta \u001b[36m0:00:00\u001b[0m\n",
      "\u001b[?25hInstalling collected packages: html5lib\n",
      "Successfully installed html5lib-1.1\n"
     ]
    }
   ],
   "source": [
    "!pip3 install lxml\n",
    "!pip3 install html5lib"
   ]
  },
  {
   "cell_type": "markdown",
   "id": "74ecadda-e64d-4897-8843-52c5e535b6dd",
   "metadata": {
    "id": "52d95e4a"
   },
   "source": [
    "The magic making it all come together:\n",
    "\n"
   ]
  },
  {
   "cell_type": "code",
   "execution_count": 2,
   "id": "2f21a379",
   "metadata": {
    "colab": {
     "base_uri": "https://localhost:8080/"
    },
    "executionInfo": {
     "elapsed": 601,
     "status": "ok",
     "timestamp": 1691168439021,
     "user": {
      "displayName": "Aron C",
      "userId": "07834910496055545653"
     },
     "user_tz": 300
    },
    "id": "2f21a379",
    "outputId": "d7219aad-a63d-4f97-cf7a-7b4f641033e2"
   },
   "outputs": [],
   "source": [
    "import pandas as pd\n",
    "import glob\n",
    "import numpy as np\n",
    "import matplotlib.pyplot as plt\n",
    "from bs4 import BeautifulSoup"
   ]
  },
  {
   "cell_type": "code",
   "execution_count": 3,
   "id": "c2f930b3-8e33-479b-b853-58d52c6bf000",
   "metadata": {},
   "outputs": [
    {
     "name": "stdout",
     "output_type": "stream",
     "text": [
      "/home/jovyan/notebooks/cmps6790/_labs\n"
     ]
    }
   ],
   "source": [
    "%cd /home/jovyan/notebooks/cmps6790/_labs/"
   ]
  },
  {
   "cell_type": "code",
   "execution_count": 4,
   "id": "f5216271-e5b7-4cdd-871c-cd8a10a47507",
   "metadata": {},
   "outputs": [
    {
     "name": "stdout",
     "output_type": "stream",
     "text": [
      "data\tLab01  Lab03  Lab05  Lab08  Lab10  Lab12  old\n",
      "images\tLab02  Lab04  Lab06  Lab09  Lab11  Lab13  README.md\n"
     ]
    }
   ],
   "source": [
    "!ls"
   ]
  },
  {
   "cell_type": "markdown",
   "id": "4fbc7304",
   "metadata": {
    "id": "4fbc7304"
   },
   "source": [
    "## Dataset - NBA Shot Selection\n",
    "\n",
    "This [dataset](https://www.kaggle.com/datasets/mexwell/nba-shots?resource=download) (or set of datasets) made my eyes wide because I felt that the possiblities were endless! It is a collection of NBA regular season shot location data from the 03-04 season to 23-24.\n",
    "\n",
    "This one required a bit more work to create the data to be presented in a tidy data instance.\n",
    "\n",
    "Some ideas I had for analysis included:\n",
    "\n",
    "1. What is the average shooting accuracy across the different zones on the court?\n",
    "\n",
    "2. What is the distribution of shot distance?\n",
    "\n",
    "3. How does one player improve throughout their career?*\n",
    "\n",
    "First, I had to take the separate csv files to combine into one DataFrame:"
   ]
  },
  {
   "cell_type": "code",
   "execution_count": 5,
   "id": "f00b90d7",
   "metadata": {
    "colab": {
     "base_uri": "https://localhost:8080/"
    },
    "executionInfo": {
     "elapsed": 172,
     "status": "ok",
     "timestamp": 1691168473274,
     "user": {
      "displayName": "Aron C",
      "userId": "07834910496055545653"
     },
     "user_tz": 300
    },
    "id": "f00b90d7",
    "outputId": "b3494690-711d-4266-bde6-281b5e74c9be"
   },
   "outputs": [
    {
     "data": {
      "text/html": [
       "<div>\n",
       "<style scoped>\n",
       "    .dataframe tbody tr th:only-of-type {\n",
       "        vertical-align: middle;\n",
       "    }\n",
       "\n",
       "    .dataframe tbody tr th {\n",
       "        vertical-align: top;\n",
       "    }\n",
       "\n",
       "    .dataframe thead th {\n",
       "        text-align: right;\n",
       "    }\n",
       "</style>\n",
       "<table border=\"1\" class=\"dataframe\">\n",
       "  <thead>\n",
       "    <tr style=\"text-align: right;\">\n",
       "      <th></th>\n",
       "      <th>SEASON_1</th>\n",
       "      <th>SEASON_2</th>\n",
       "      <th>TEAM_ID</th>\n",
       "      <th>TEAM_NAME</th>\n",
       "      <th>PLAYER_ID</th>\n",
       "      <th>PLAYER_NAME</th>\n",
       "      <th>POSITION_GROUP</th>\n",
       "      <th>POSITION</th>\n",
       "      <th>GAME_DATE</th>\n",
       "      <th>GAME_ID</th>\n",
       "      <th>...</th>\n",
       "      <th>ZONE_NAME</th>\n",
       "      <th>ZONE_ABB</th>\n",
       "      <th>ZONE_RANGE</th>\n",
       "      <th>LOC_X</th>\n",
       "      <th>LOC_Y</th>\n",
       "      <th>SHOT_DISTANCE</th>\n",
       "      <th>QUARTER</th>\n",
       "      <th>MINS_LEFT</th>\n",
       "      <th>SECS_LEFT</th>\n",
       "      <th>Year</th>\n",
       "    </tr>\n",
       "  </thead>\n",
       "  <tbody>\n",
       "    <tr>\n",
       "      <th>0</th>\n",
       "      <td>2009</td>\n",
       "      <td>2008-09</td>\n",
       "      <td>1610612744</td>\n",
       "      <td>Golden State Warriors</td>\n",
       "      <td>201627</td>\n",
       "      <td>Anthony Morrow</td>\n",
       "      <td>G</td>\n",
       "      <td>SG</td>\n",
       "      <td>04-15-2009</td>\n",
       "      <td>20801229</td>\n",
       "      <td>...</td>\n",
       "      <td>Center</td>\n",
       "      <td>C</td>\n",
       "      <td>Less Than 8 ft.</td>\n",
       "      <td>-0.0</td>\n",
       "      <td>5.25</td>\n",
       "      <td>0</td>\n",
       "      <td>4</td>\n",
       "      <td>0</td>\n",
       "      <td>1</td>\n",
       "      <td>2009</td>\n",
       "    </tr>\n",
       "    <tr>\n",
       "      <th>1</th>\n",
       "      <td>2009</td>\n",
       "      <td>2008-09</td>\n",
       "      <td>1610612744</td>\n",
       "      <td>Golden State Warriors</td>\n",
       "      <td>101235</td>\n",
       "      <td>Kelenna Azubuike</td>\n",
       "      <td>F</td>\n",
       "      <td>SF</td>\n",
       "      <td>04-15-2009</td>\n",
       "      <td>20801229</td>\n",
       "      <td>...</td>\n",
       "      <td>Center</td>\n",
       "      <td>C</td>\n",
       "      <td>Less Than 8 ft.</td>\n",
       "      <td>-0.0</td>\n",
       "      <td>5.25</td>\n",
       "      <td>0</td>\n",
       "      <td>4</td>\n",
       "      <td>0</td>\n",
       "      <td>9</td>\n",
       "      <td>2009</td>\n",
       "    </tr>\n",
       "    <tr>\n",
       "      <th>2</th>\n",
       "      <td>2009</td>\n",
       "      <td>2008-09</td>\n",
       "      <td>1610612756</td>\n",
       "      <td>Phoenix Suns</td>\n",
       "      <td>255</td>\n",
       "      <td>Grant Hill</td>\n",
       "      <td>F</td>\n",
       "      <td>SF</td>\n",
       "      <td>04-15-2009</td>\n",
       "      <td>20801229</td>\n",
       "      <td>...</td>\n",
       "      <td>Center</td>\n",
       "      <td>C</td>\n",
       "      <td>Less Than 8 ft.</td>\n",
       "      <td>-0.0</td>\n",
       "      <td>5.25</td>\n",
       "      <td>0</td>\n",
       "      <td>4</td>\n",
       "      <td>0</td>\n",
       "      <td>25</td>\n",
       "      <td>2009</td>\n",
       "    </tr>\n",
       "    <tr>\n",
       "      <th>3</th>\n",
       "      <td>2009</td>\n",
       "      <td>2008-09</td>\n",
       "      <td>1610612739</td>\n",
       "      <td>Cleveland Cavaliers</td>\n",
       "      <td>200789</td>\n",
       "      <td>Daniel Gibson</td>\n",
       "      <td>G</td>\n",
       "      <td>PG</td>\n",
       "      <td>04-15-2009</td>\n",
       "      <td>20801219</td>\n",
       "      <td>...</td>\n",
       "      <td>Center</td>\n",
       "      <td>C</td>\n",
       "      <td>Less Than 8 ft.</td>\n",
       "      <td>-0.2</td>\n",
       "      <td>5.25</td>\n",
       "      <td>0</td>\n",
       "      <td>5</td>\n",
       "      <td>0</td>\n",
       "      <td>4</td>\n",
       "      <td>2009</td>\n",
       "    </tr>\n",
       "    <tr>\n",
       "      <th>4</th>\n",
       "      <td>2009</td>\n",
       "      <td>2008-09</td>\n",
       "      <td>1610612756</td>\n",
       "      <td>Phoenix Suns</td>\n",
       "      <td>255</td>\n",
       "      <td>Grant Hill</td>\n",
       "      <td>F</td>\n",
       "      <td>SF</td>\n",
       "      <td>04-15-2009</td>\n",
       "      <td>20801229</td>\n",
       "      <td>...</td>\n",
       "      <td>Left Side</td>\n",
       "      <td>L</td>\n",
       "      <td>8-16 ft.</td>\n",
       "      <td>8.7</td>\n",
       "      <td>7.55</td>\n",
       "      <td>8</td>\n",
       "      <td>4</td>\n",
       "      <td>1</td>\n",
       "      <td>3</td>\n",
       "      <td>2009</td>\n",
       "    </tr>\n",
       "  </tbody>\n",
       "</table>\n",
       "<p>5 rows × 27 columns</p>\n",
       "</div>"
      ],
      "text/plain": [
       "   SEASON_1 SEASON_2     TEAM_ID              TEAM_NAME  PLAYER_ID  \\\n",
       "0      2009  2008-09  1610612744  Golden State Warriors     201627   \n",
       "1      2009  2008-09  1610612744  Golden State Warriors     101235   \n",
       "2      2009  2008-09  1610612756           Phoenix Suns        255   \n",
       "3      2009  2008-09  1610612739    Cleveland Cavaliers     200789   \n",
       "4      2009  2008-09  1610612756           Phoenix Suns        255   \n",
       "\n",
       "        PLAYER_NAME POSITION_GROUP POSITION   GAME_DATE   GAME_ID  ...  \\\n",
       "0    Anthony Morrow              G       SG  04-15-2009  20801229  ...   \n",
       "1  Kelenna Azubuike              F       SF  04-15-2009  20801229  ...   \n",
       "2        Grant Hill              F       SF  04-15-2009  20801229  ...   \n",
       "3     Daniel Gibson              G       PG  04-15-2009  20801219  ...   \n",
       "4        Grant Hill              F       SF  04-15-2009  20801229  ...   \n",
       "\n",
       "   ZONE_NAME ZONE_ABB       ZONE_RANGE  LOC_X LOC_Y SHOT_DISTANCE QUARTER  \\\n",
       "0     Center        C  Less Than 8 ft.   -0.0  5.25             0       4   \n",
       "1     Center        C  Less Than 8 ft.   -0.0  5.25             0       4   \n",
       "2     Center        C  Less Than 8 ft.   -0.0  5.25             0       4   \n",
       "3     Center        C  Less Than 8 ft.   -0.2  5.25             0       5   \n",
       "4  Left Side        L         8-16 ft.    8.7  7.55             8       4   \n",
       "\n",
       "  MINS_LEFT SECS_LEFT  Year  \n",
       "0         0         1  2009  \n",
       "1         0         9  2009  \n",
       "2         0        25  2009  \n",
       "3         0         4  2009  \n",
       "4         1         3  2009  \n",
       "\n",
       "[5 rows x 27 columns]"
      ]
     },
     "execution_count": 5,
     "metadata": {},
     "output_type": "execute_result"
    }
   ],
   "source": [
    "list_of_frames = []\n",
    "# Using glob from Lab 6\n",
    "all_year_shots = glob.glob(\"data/shots/*.csv\")\n",
    "for datafile in all_year_shots:\n",
    "# Had to find a way to get the year from all of the files so it can be in the main, big dataframe\n",
    "    year = int(datafile.split('NBA_')[1].split('_Shots.csv')[0])\n",
    "    shots_df = pd.read_csv(datafile)\n",
    "    shots_df[\"Year\"] = year\n",
    "    list_of_frames.append(shots_df)\n",
    "    \n",
    "all_shots_df = pd.concat(list_of_frames, \n",
    "                   ignore_index=True)\n",
    "all_shots_df.head()"
   ]
  },
  {
   "cell_type": "markdown",
   "id": "0542728b",
   "metadata": {
    "id": "0542728b"
   },
   "source": [
    "### Tidying\n",
    "\n",
    "As Always, I began to drop the variables I felt were not needed for what I was analyzing.\n",
    "\n",
    "I chose to keep the `Team_ID`, for the teams that have changed their names, but are essentially the same team...looking at you New Orleans.\n",
    "\n",
    "I dropped the `SEASON_1` and `SEASON_2` since I already did the work to put the year as a variable.\n",
    "\n",
    "I dropped `POSITION_GROUP`, `ZONE_ABB`, `ZONE_RANGE`, since I felt they were accounted for within the dataset.\n",
    "\n",
    "I chose to keep a lot of the variables because of the countless relationships I could compare and make connections out of but as time goes on, I may drop more.\n",
    "\n",
    "I wanted to convert the data types to make sure that they are correct."
   ]
  },
  {
   "cell_type": "code",
   "execution_count": 6,
   "id": "daa647a9-4838-452b-b0b7-c09d673f7519",
   "metadata": {},
   "outputs": [
    {
     "data": {
      "text/html": [
       "<div>\n",
       "<style scoped>\n",
       "    .dataframe tbody tr th:only-of-type {\n",
       "        vertical-align: middle;\n",
       "    }\n",
       "\n",
       "    .dataframe tbody tr th {\n",
       "        vertical-align: top;\n",
       "    }\n",
       "\n",
       "    .dataframe thead th {\n",
       "        text-align: right;\n",
       "    }\n",
       "</style>\n",
       "<table border=\"1\" class=\"dataframe\">\n",
       "  <thead>\n",
       "    <tr style=\"text-align: right;\">\n",
       "      <th></th>\n",
       "      <th>TEAM_ID</th>\n",
       "      <th>TEAM_NAME</th>\n",
       "      <th>PLAYER_ID</th>\n",
       "      <th>PLAYER_NAME</th>\n",
       "      <th>POSITION</th>\n",
       "      <th>GAME_DATE</th>\n",
       "      <th>GAME_ID</th>\n",
       "      <th>HOME_TEAM</th>\n",
       "      <th>AWAY_TEAM</th>\n",
       "      <th>EVENT_TYPE</th>\n",
       "      <th>...</th>\n",
       "      <th>SHOT_TYPE</th>\n",
       "      <th>BASIC_ZONE</th>\n",
       "      <th>ZONE_NAME</th>\n",
       "      <th>LOC_X</th>\n",
       "      <th>LOC_Y</th>\n",
       "      <th>SHOT_DISTANCE</th>\n",
       "      <th>QUARTER</th>\n",
       "      <th>MINS_LEFT</th>\n",
       "      <th>SECS_LEFT</th>\n",
       "      <th>Year</th>\n",
       "    </tr>\n",
       "  </thead>\n",
       "  <tbody>\n",
       "    <tr>\n",
       "      <th>0</th>\n",
       "      <td>1610612744</td>\n",
       "      <td>Golden State Warriors</td>\n",
       "      <td>201627</td>\n",
       "      <td>Anthony Morrow</td>\n",
       "      <td>SG</td>\n",
       "      <td>2009-04-15</td>\n",
       "      <td>20801229</td>\n",
       "      <td>PHX</td>\n",
       "      <td>GSW</td>\n",
       "      <td>Made Shot</td>\n",
       "      <td>...</td>\n",
       "      <td>2PT Field Goal</td>\n",
       "      <td>Restricted Area</td>\n",
       "      <td>Center</td>\n",
       "      <td>-0.0</td>\n",
       "      <td>5.25</td>\n",
       "      <td>0</td>\n",
       "      <td>4</td>\n",
       "      <td>0</td>\n",
       "      <td>1</td>\n",
       "      <td>2009</td>\n",
       "    </tr>\n",
       "    <tr>\n",
       "      <th>1</th>\n",
       "      <td>1610612744</td>\n",
       "      <td>Golden State Warriors</td>\n",
       "      <td>101235</td>\n",
       "      <td>Kelenna Azubuike</td>\n",
       "      <td>SF</td>\n",
       "      <td>2009-04-15</td>\n",
       "      <td>20801229</td>\n",
       "      <td>PHX</td>\n",
       "      <td>GSW</td>\n",
       "      <td>Missed Shot</td>\n",
       "      <td>...</td>\n",
       "      <td>2PT Field Goal</td>\n",
       "      <td>Restricted Area</td>\n",
       "      <td>Center</td>\n",
       "      <td>-0.0</td>\n",
       "      <td>5.25</td>\n",
       "      <td>0</td>\n",
       "      <td>4</td>\n",
       "      <td>0</td>\n",
       "      <td>9</td>\n",
       "      <td>2009</td>\n",
       "    </tr>\n",
       "    <tr>\n",
       "      <th>2</th>\n",
       "      <td>1610612756</td>\n",
       "      <td>Phoenix Suns</td>\n",
       "      <td>255</td>\n",
       "      <td>Grant Hill</td>\n",
       "      <td>SF</td>\n",
       "      <td>2009-04-15</td>\n",
       "      <td>20801229</td>\n",
       "      <td>PHX</td>\n",
       "      <td>GSW</td>\n",
       "      <td>Made Shot</td>\n",
       "      <td>...</td>\n",
       "      <td>2PT Field Goal</td>\n",
       "      <td>Restricted Area</td>\n",
       "      <td>Center</td>\n",
       "      <td>-0.0</td>\n",
       "      <td>5.25</td>\n",
       "      <td>0</td>\n",
       "      <td>4</td>\n",
       "      <td>0</td>\n",
       "      <td>25</td>\n",
       "      <td>2009</td>\n",
       "    </tr>\n",
       "    <tr>\n",
       "      <th>3</th>\n",
       "      <td>1610612739</td>\n",
       "      <td>Cleveland Cavaliers</td>\n",
       "      <td>200789</td>\n",
       "      <td>Daniel Gibson</td>\n",
       "      <td>PG</td>\n",
       "      <td>2009-04-15</td>\n",
       "      <td>20801219</td>\n",
       "      <td>CLE</td>\n",
       "      <td>PHI</td>\n",
       "      <td>Made Shot</td>\n",
       "      <td>...</td>\n",
       "      <td>2PT Field Goal</td>\n",
       "      <td>Restricted Area</td>\n",
       "      <td>Center</td>\n",
       "      <td>-0.2</td>\n",
       "      <td>5.25</td>\n",
       "      <td>0</td>\n",
       "      <td>5</td>\n",
       "      <td>0</td>\n",
       "      <td>4</td>\n",
       "      <td>2009</td>\n",
       "    </tr>\n",
       "    <tr>\n",
       "      <th>4</th>\n",
       "      <td>1610612756</td>\n",
       "      <td>Phoenix Suns</td>\n",
       "      <td>255</td>\n",
       "      <td>Grant Hill</td>\n",
       "      <td>SF</td>\n",
       "      <td>2009-04-15</td>\n",
       "      <td>20801229</td>\n",
       "      <td>PHX</td>\n",
       "      <td>GSW</td>\n",
       "      <td>Missed Shot</td>\n",
       "      <td>...</td>\n",
       "      <td>2PT Field Goal</td>\n",
       "      <td>Mid-Range</td>\n",
       "      <td>Left Side</td>\n",
       "      <td>8.7</td>\n",
       "      <td>7.55</td>\n",
       "      <td>8</td>\n",
       "      <td>4</td>\n",
       "      <td>1</td>\n",
       "      <td>3</td>\n",
       "      <td>2009</td>\n",
       "    </tr>\n",
       "  </tbody>\n",
       "</table>\n",
       "<p>5 rows × 22 columns</p>\n",
       "</div>"
      ],
      "text/plain": [
       "      TEAM_ID              TEAM_NAME  PLAYER_ID       PLAYER_NAME POSITION  \\\n",
       "0  1610612744  Golden State Warriors     201627    Anthony Morrow       SG   \n",
       "1  1610612744  Golden State Warriors     101235  Kelenna Azubuike       SF   \n",
       "2  1610612756           Phoenix Suns        255        Grant Hill       SF   \n",
       "3  1610612739    Cleveland Cavaliers     200789     Daniel Gibson       PG   \n",
       "4  1610612756           Phoenix Suns        255        Grant Hill       SF   \n",
       "\n",
       "   GAME_DATE   GAME_ID HOME_TEAM AWAY_TEAM   EVENT_TYPE  ...       SHOT_TYPE  \\\n",
       "0 2009-04-15  20801229       PHX       GSW    Made Shot  ...  2PT Field Goal   \n",
       "1 2009-04-15  20801229       PHX       GSW  Missed Shot  ...  2PT Field Goal   \n",
       "2 2009-04-15  20801229       PHX       GSW    Made Shot  ...  2PT Field Goal   \n",
       "3 2009-04-15  20801219       CLE       PHI    Made Shot  ...  2PT Field Goal   \n",
       "4 2009-04-15  20801229       PHX       GSW  Missed Shot  ...  2PT Field Goal   \n",
       "\n",
       "        BASIC_ZONE  ZONE_NAME LOC_X LOC_Y  SHOT_DISTANCE  QUARTER  MINS_LEFT  \\\n",
       "0  Restricted Area     Center  -0.0  5.25              0        4          0   \n",
       "1  Restricted Area     Center  -0.0  5.25              0        4          0   \n",
       "2  Restricted Area     Center  -0.0  5.25              0        4          0   \n",
       "3  Restricted Area     Center  -0.2  5.25              0        5          0   \n",
       "4        Mid-Range  Left Side   8.7  7.55              8        4          1   \n",
       "\n",
       "   SECS_LEFT  Year  \n",
       "0          1  2009  \n",
       "1          9  2009  \n",
       "2         25  2009  \n",
       "3          4  2009  \n",
       "4          3  2009  \n",
       "\n",
       "[5 rows x 22 columns]"
      ]
     },
     "execution_count": 6,
     "metadata": {},
     "output_type": "execute_result"
    }
   ],
   "source": [
    "nba_df = all_shots_df.drop(columns=['SEASON_1', 'SEASON_2', 'POSITION_GROUP', 'ZONE_ABB', 'ZONE_RANGE'])\n",
    "nba_df['GAME_DATE'] = pd.to_datetime(nba_df['GAME_DATE'])\n",
    "\n",
    "nba_df.head()"
   ]
  },
  {
   "cell_type": "markdown",
   "id": "923d99ad",
   "metadata": {
    "id": "923d99ad"
   },
   "source": [
    "Wanted to verify that the `SHOT_MADE` was a boolean value.\n",
    "Also, wanted the year to be not the last column read.\n",
    "\n",
    "\n"
   ]
  },
  {
   "cell_type": "code",
   "execution_count": 7,
   "id": "94e37b7a-877d-4ee1-a03e-d6f1c5c35bda",
   "metadata": {},
   "outputs": [],
   "source": [
    "nba_df['SHOT_MADE'] = nba_df['SHOT_MADE'].astype(bool)"
   ]
  },
  {
   "cell_type": "markdown",
   "id": "9d809d23-708b-40bf-b4ec-698e550f94af",
   "metadata": {
    "id": "923d99ad"
   },
   "source": [
    "**Example Analysis 1:** \n",
    "\n",
    "Does the shooting accuracy decline as the game progresses?\n"
   ]
  },
  {
   "cell_type": "code",
   "execution_count": 8,
   "id": "8b6e3965-eb3d-4440-b401-ffa56491fe37",
   "metadata": {},
   "outputs": [
    {
     "name": "stdout",
     "output_type": "stream",
     "text": [
      "QUARTER\n",
      "1    0.467157\n",
      "2    0.460422\n",
      "3    0.457715\n",
      "4    0.445597\n",
      "5    0.414879\n",
      "6    0.407710\n",
      "7    0.402154\n",
      "8    0.452055\n",
      "Name: SHOT_MADE, dtype: float64\n"
     ]
    }
   ],
   "source": [
    "quarter_accuracy = nba_df.groupby('QUARTER')['SHOT_MADE'].mean()\n",
    "print(quarter_accuracy)"
   ]
  },
  {
   "cell_type": "markdown",
   "id": "38414b91-a788-41f2-8b58-f71b43ae72ec",
   "metadata": {
    "id": "923d99ad"
   },
   "source": [
    "This could be interpreted as the accuracy does decline over the game, probably due to them getting tired."
   ]
  },
  {
   "cell_type": "markdown",
   "id": "1854e690-a90c-4765-b951-a8a79f65197e",
   "metadata": {
    "id": "923d99ad"
   },
   "source": [
    "**Example Analysis 2:** \n",
    "\n",
    "Which zones have the highest shooting accuracy? I would guess the center\n"
   ]
  },
  {
   "cell_type": "code",
   "execution_count": 9,
   "id": "47476d9e-c956-4a64-bfda-44af06160770",
   "metadata": {},
   "outputs": [
    {
     "name": "stdout",
     "output_type": "stream",
     "text": [
      "ZONE_NAME\n",
      "Back Court           0.027129\n",
      "Center               0.524424\n",
      "Left Side            0.392638\n",
      "Left Side Center     0.367183\n",
      "Right Side           0.394322\n",
      "Right Side Center    0.369486\n",
      "Name: SHOT_MADE, dtype: float64\n"
     ]
    }
   ],
   "source": [
    "zone_accuracy = nba_df.groupby('ZONE_NAME')['SHOT_MADE'].mean()\n",
    "print(zone_accuracy)"
   ]
  },
  {
   "cell_type": "markdown",
   "id": "86ed1f3f-e4a8-484a-8c18-f27d6ef3f945",
   "metadata": {
    "id": "923d99ad"
   },
   "source": [
    "**Example Analysis 3:** \n",
    "\n",
    "What is the average shooting accuracy across the different zones on the court?\n"
   ]
  },
  {
   "cell_type": "code",
   "execution_count": 10,
   "id": "af44f0d9-759b-4629-97c1-10f4e847364b",
   "metadata": {},
   "outputs": [
    {
     "data": {
      "image/png": "[encoded data removed]",
      "text/plain": [
       "<Figure size 1000x600 with 1 Axes>"
      ]
     },
     "metadata": {},
     "output_type": "display_data"
    }
   ],
   "source": [
    "zone_accuracy = nba_df.groupby('ZONE_NAME')['SHOT_MADE'].mean()\n",
    "\n",
    "plt.figure(figsize=(10,6))\n",
    "zone_accuracy.plot(kind='bar')\n",
    "plt.title('Average Shooting Accuracy by Court Zone')\n",
    "plt.xlabel('Court Zone')\n",
    "plt.ylabel('Shooting Accuracy')\n",
    "plt.show()"
   ]
  },
  {
   "cell_type": "markdown",
   "id": "14b96215",
   "metadata": {
    "id": "14b96215"
   },
   "source": [
    "**Another Example Analysis:** \n",
    "\n",
    "I was not satisfied with that bar chart so I figured I dove a bit deeper into this one since we had more variables at play.\n",
    "\n",
    "\"How does one player improve throughout their career?\"\n",
    "\n",
    "When I initally asked this, I was thinking of tracking a player's makes/misses over their career. But the more I thought about it, what if I wanted to track a player's specific shot over every season.\n",
    "\n",
    "I used [this](https://www.mathworks.com/help/matlab/ref/plot.html?searchHighlight=line%20graph&s_tid=srchtitle_support_results_1_line%20graph) a bit for help"
   ]
  },
  {
   "cell_type": "code",
   "execution_count": 11,
   "id": "d15ca478-f56c-4642-9196-ccb65470217e",
   "metadata": {},
   "outputs": [
    {
     "data": {
      "image/png": "[encoded data removed]",
      "text/plain": [
       "<Figure size 1000x600 with 1 Axes>"
      ]
     },
     "metadata": {},
     "output_type": "display_data"
    }
   ],
   "source": [
    "#Filter the data\n",
    "three_point_shots_df = nba_df[nba_df['SHOT_TYPE'] == '3PT Field Goal']\n",
    "player_name = 'Gilbert Arenas' \n",
    "player_shots_df = three_point_shots_df[three_point_shots_df['PLAYER_NAME'] == player_name]\n",
    "\n",
    "player_accuracy_by_year = player_shots_df.groupby('Year')['SHOT_MADE'].mean()\n",
    "\n",
    "plt.figure(figsize=(10,6))\n",
    "player_accuracy_by_year.plot(kind='line', marker='o', color='purple')\n",
    "plt.title(f'3-Point Shooting Accuracy by {player_name} Over the Seasons')\n",
    "plt.xlabel('Year')\n",
    "plt.ylabel('Shooting Accuracy')\n",
    "plt.grid(True)\n",
    "\n",
    "plt.show()"
   ]
  },
  {
   "cell_type": "markdown",
   "id": "7f4f1f61-30cb-4c6e-8b06-b34edc6d1efa",
   "metadata": {
    "id": "4fbc7304"
   },
   "source": [
    "**Interesting Stat:** Using background knowledge, I know that Gilbert Arenas was drafted in 2001, so a negative part of the data is that I am not getting his entire career, but it is striking that he won NBA Easten Conference Player of the week, from [Wikipedia](https://en.wikipedia.org/wiki/Gilbert_Arenas#Awards_and_honors) only 7 times in his career and that is through the 2004-2006-07 run and the `Shooting Accuracy` shows he was on a great run with the 3-Pointers.\n",
    "\n",
    "Just for fun, let's see the magificent Stephen Curry:"
   ]
  },
  {
   "cell_type": "code",
   "execution_count": 12,
   "id": "d9c512e4-e0a5-4590-ba3f-14c2f9edfe28",
   "metadata": {},
   "outputs": [
    {
     "data": {
      "image/png": "[encoded data removed]",
      "text/plain": [
       "<Figure size 1000x600 with 1 Axes>"
      ]
     },
     "metadata": {},
     "output_type": "display_data"
    }
   ],
   "source": [
    "three_point_shots_df = nba_df[nba_df['SHOT_TYPE'] == '3PT Field Goal']\n",
    "player_name = 'Stephen Curry' \n",
    "player_shots_df = three_point_shots_df[three_point_shots_df['PLAYER_NAME'] == player_name]\n",
    "\n",
    "player_accuracy_by_year = player_shots_df.groupby('Year')['SHOT_MADE'].mean()\n",
    "\n",
    "plt.figure(figsize=(10,6))\n",
    "player_accuracy_by_year.plot(kind='line', marker='o', color='blue')\n",
    "plt.title(f'3-Point Shooting Accuracy by {player_name} Over the Seasons')\n",
    "plt.xlabel('Year')\n",
    "plt.ylabel('Shooting Accuracy')\n",
    "plt.grid(True)\n",
    "\n",
    "plt.show()"
   ]
  },
  {
   "cell_type": "markdown",
   "id": "5fc070f2-d7b9-49d8-868b-f08e18c533b9",
   "metadata": {
    "id": "4fbc7304"
   },
   "source": [
    "Clearly, the stats show that he had several injuries within 2020. It is a lot of different factors at play as well but he continued to push and still got his accuracy back to his legendary 2016-2018 run."
   ]
  },
  {
   "cell_type": "markdown",
   "id": "f1c354be-1ce2-4352-9dad-b527ce4c53ff",
   "metadata": {
    "id": "4fbc7304"
   },
   "source": [
    "# Milestone 2: Additional Extraction, Transform, and Load (ETL) + Exploratory Data Analysis (EDA), and Model Proposal"
   ]
  },
  {
   "cell_type": "markdown",
   "id": "60469a95-e7db-4506-a741-450f50e1e3ea",
   "metadata": {
    "id": "4fbc7304"
   },
   "source": [
    "Since I combined so many datasets to create this one with several years, I think I should treat it like SQL and create multiple datasets with different primary and foreign keys."
   ]
  },
  {
   "cell_type": "code",
   "execution_count": 13,
   "id": "e712f2f5-5f75-4104-8220-9d162d459e4d",
   "metadata": {
    "id": "4fbc7304"
   },
   "outputs": [
    {
     "data": {
      "text/plain": [
       "Index(['TEAM_ID', 'TEAM_NAME', 'PLAYER_ID', 'PLAYER_NAME', 'POSITION',\n",
       "       'GAME_DATE', 'GAME_ID', 'HOME_TEAM', 'AWAY_TEAM', 'EVENT_TYPE',\n",
       "       'SHOT_MADE', 'ACTION_TYPE', 'SHOT_TYPE', 'BASIC_ZONE', 'ZONE_NAME',\n",
       "       'LOC_X', 'LOC_Y', 'SHOT_DISTANCE', 'QUARTER', 'MINS_LEFT', 'SECS_LEFT',\n",
       "       'Year'],\n",
       "      dtype='object')"
      ]
     },
     "execution_count": 13,
     "metadata": {},
     "output_type": "execute_result"
    }
   ],
   "source": [
    "nba_df.columns"
   ]
  },
  {
   "cell_type": "markdown",
   "id": "9547406b-8cd7-40f5-bef8-42b0c1c36f5a",
   "metadata": {},
   "source": [
    "I chose to make 4 different dataframes so it can be far more tidy and easier to follow:\n",
    "\n",
    "1) `teams_df` where the columns will be `TEAM_ID` and `TEAM_NAME` and the primary key will be obviously `TEAM_ID`.\n",
    "2) `players_df` where the columns will be `PLAYER_ID`, `PLAYER_NAME`, and `POSITION` and the primary key will be `PLAYER_ID` \n",
    "3) `games_df` where the columns will be `GAME_ID`, `GAME_DATE`, `HOME_TEAM`, and `AWAY_TEAM`. The primary key wil;l be `GAME_ID` and the foreign keys will be `HOME_TEAM` and `AWAY_TEAM`.\n",
    "4) `shots_df` will be the most columns since there is a bit of information, I will probably need to tidy it up but for now, the columns are `GAME_ID`, `PLAYER_ID`, `TEAM_ID`, `SHOT_MADE`, `ACTION_TYPE`, `SHOT_TYPE`, `BASIC_ZONE`, `ZONE_NAME`, `LOC_X`, `LOC_Y`, `SHOT_DISTANCE`, `QUARTER`, `MINS_LEFT`, `SECS_LEFT`, and `EVENT_TYPE`. Obviously the first three are the foreign keys."
   ]
  },
  {
   "cell_type": "code",
   "execution_count": 14,
   "id": "616fe271-6643-4ef5-aa22-03a21f1a9526",
   "metadata": {},
   "outputs": [],
   "source": [
    "teams_df = nba_df[['TEAM_ID', 'TEAM_NAME']].drop_duplicates().reset_index(drop=True)"
   ]
  },
  {
   "cell_type": "code",
   "execution_count": 15,
   "id": "6e697b68-4344-4296-999b-6be2b3b9efe2",
   "metadata": {},
   "outputs": [],
   "source": [
    "players_df = nba_df[['PLAYER_ID', 'PLAYER_NAME', 'POSITION']].drop_duplicates().reset_index(drop=True)"
   ]
  },
  {
   "cell_type": "code",
   "execution_count": 16,
   "id": "ae43f23b-e8ae-4e5b-bb6b-aa7ba684e25a",
   "metadata": {},
   "outputs": [],
   "source": [
    "games_df = nba_df[['GAME_ID', 'GAME_DATE', 'HOME_TEAM', 'AWAY_TEAM']].drop_duplicates().reset_index(drop=True)"
   ]
  },
  {
   "cell_type": "code",
   "execution_count": 17,
   "id": "a365123d-c339-4c70-8839-832e8339f8e6",
   "metadata": {},
   "outputs": [],
   "source": [
    "shots_df = nba_df[['GAME_ID', 'PLAYER_ID', 'TEAM_ID', 'SHOT_MADE', 'ACTION_TYPE','SHOT_TYPE', 'BASIC_ZONE', \n",
    "                   'ZONE_NAME', 'LOC_X', 'LOC_Y', 'SHOT_DISTANCE', 'QUARTER', 'MINS_LEFT', 'SECS_LEFT', \n",
    "                   'EVENT_TYPE']].copy()"
   ]
  },
  {
   "cell_type": "code",
   "execution_count": 18,
   "id": "23b2be54-ec5b-4617-ad72-ac7e67f15a7f",
   "metadata": {},
   "outputs": [
    {
     "data": {
      "text/html": [
       "<div>\n",
       "<style scoped>\n",
       "    .dataframe tbody tr th:only-of-type {\n",
       "        vertical-align: middle;\n",
       "    }\n",
       "\n",
       "    .dataframe tbody tr th {\n",
       "        vertical-align: top;\n",
       "    }\n",
       "\n",
       "    .dataframe thead th {\n",
       "        text-align: right;\n",
       "    }\n",
       "</style>\n",
       "<table border=\"1\" class=\"dataframe\">\n",
       "  <thead>\n",
       "    <tr style=\"text-align: right;\">\n",
       "      <th></th>\n",
       "      <th>TEAM_ID</th>\n",
       "      <th>TEAM_NAME</th>\n",
       "    </tr>\n",
       "  </thead>\n",
       "  <tbody>\n",
       "    <tr>\n",
       "      <th>0</th>\n",
       "      <td>1610612744</td>\n",
       "      <td>Golden State Warriors</td>\n",
       "    </tr>\n",
       "    <tr>\n",
       "      <th>1</th>\n",
       "      <td>1610612756</td>\n",
       "      <td>Phoenix Suns</td>\n",
       "    </tr>\n",
       "    <tr>\n",
       "      <th>2</th>\n",
       "      <td>1610612739</td>\n",
       "      <td>Cleveland Cavaliers</td>\n",
       "    </tr>\n",
       "    <tr>\n",
       "      <th>3</th>\n",
       "      <td>1610612755</td>\n",
       "      <td>Philadelphia 76ers</td>\n",
       "    </tr>\n",
       "    <tr>\n",
       "      <th>4</th>\n",
       "      <td>1610612765</td>\n",
       "      <td>Detroit Pistons</td>\n",
       "    </tr>\n",
       "  </tbody>\n",
       "</table>\n",
       "</div>"
      ],
      "text/plain": [
       "      TEAM_ID              TEAM_NAME\n",
       "0  1610612744  Golden State Warriors\n",
       "1  1610612756           Phoenix Suns\n",
       "2  1610612739    Cleveland Cavaliers\n",
       "3  1610612755     Philadelphia 76ers\n",
       "4  1610612765        Detroit Pistons"
      ]
     },
     "execution_count": 18,
     "metadata": {},
     "output_type": "execute_result"
    }
   ],
   "source": [
    "teams_df.head()"
   ]
  },
  {
   "cell_type": "code",
   "execution_count": 19,
   "id": "6491c828-2ef1-4782-85a1-99eb59612df5",
   "metadata": {},
   "outputs": [
    {
     "data": {
      "text/html": [
       "<div>\n",
       "<style scoped>\n",
       "    .dataframe tbody tr th:only-of-type {\n",
       "        vertical-align: middle;\n",
       "    }\n",
       "\n",
       "    .dataframe tbody tr th {\n",
       "        vertical-align: top;\n",
       "    }\n",
       "\n",
       "    .dataframe thead th {\n",
       "        text-align: right;\n",
       "    }\n",
       "</style>\n",
       "<table border=\"1\" class=\"dataframe\">\n",
       "  <thead>\n",
       "    <tr style=\"text-align: right;\">\n",
       "      <th></th>\n",
       "      <th>PLAYER_ID</th>\n",
       "      <th>PLAYER_NAME</th>\n",
       "      <th>POSITION</th>\n",
       "    </tr>\n",
       "  </thead>\n",
       "  <tbody>\n",
       "    <tr>\n",
       "      <th>0</th>\n",
       "      <td>201627</td>\n",
       "      <td>Anthony Morrow</td>\n",
       "      <td>SG</td>\n",
       "    </tr>\n",
       "    <tr>\n",
       "      <th>1</th>\n",
       "      <td>101235</td>\n",
       "      <td>Kelenna Azubuike</td>\n",
       "      <td>SF</td>\n",
       "    </tr>\n",
       "    <tr>\n",
       "      <th>2</th>\n",
       "      <td>255</td>\n",
       "      <td>Grant Hill</td>\n",
       "      <td>SF</td>\n",
       "    </tr>\n",
       "    <tr>\n",
       "      <th>3</th>\n",
       "      <td>200789</td>\n",
       "      <td>Daniel Gibson</td>\n",
       "      <td>PG</td>\n",
       "    </tr>\n",
       "    <tr>\n",
       "      <th>4</th>\n",
       "      <td>201228</td>\n",
       "      <td>C.J. Watson</td>\n",
       "      <td>PG</td>\n",
       "    </tr>\n",
       "  </tbody>\n",
       "</table>\n",
       "</div>"
      ],
      "text/plain": [
       "   PLAYER_ID       PLAYER_NAME POSITION\n",
       "0     201627    Anthony Morrow       SG\n",
       "1     101235  Kelenna Azubuike       SF\n",
       "2        255        Grant Hill       SF\n",
       "3     200789     Daniel Gibson       PG\n",
       "4     201228       C.J. Watson       PG"
      ]
     },
     "execution_count": 19,
     "metadata": {},
     "output_type": "execute_result"
    }
   ],
   "source": [
    "players_df.head()"
   ]
  },
  {
   "cell_type": "code",
   "execution_count": 20,
   "id": "a9ef5ddd-67cb-4cc5-8bec-62bf1a89501f",
   "metadata": {},
   "outputs": [
    {
     "data": {
      "text/html": [
       "<div>\n",
       "<style scoped>\n",
       "    .dataframe tbody tr th:only-of-type {\n",
       "        vertical-align: middle;\n",
       "    }\n",
       "\n",
       "    .dataframe tbody tr th {\n",
       "        vertical-align: top;\n",
       "    }\n",
       "\n",
       "    .dataframe thead th {\n",
       "        text-align: right;\n",
       "    }\n",
       "</style>\n",
       "<table border=\"1\" class=\"dataframe\">\n",
       "  <thead>\n",
       "    <tr style=\"text-align: right;\">\n",
       "      <th></th>\n",
       "      <th>GAME_ID</th>\n",
       "      <th>GAME_DATE</th>\n",
       "      <th>HOME_TEAM</th>\n",
       "      <th>AWAY_TEAM</th>\n",
       "    </tr>\n",
       "  </thead>\n",
       "  <tbody>\n",
       "    <tr>\n",
       "      <th>0</th>\n",
       "      <td>20801229</td>\n",
       "      <td>2009-04-15</td>\n",
       "      <td>PHX</td>\n",
       "      <td>GSW</td>\n",
       "    </tr>\n",
       "    <tr>\n",
       "      <th>1</th>\n",
       "      <td>20801219</td>\n",
       "      <td>2009-04-15</td>\n",
       "      <td>CLE</td>\n",
       "      <td>PHI</td>\n",
       "    </tr>\n",
       "    <tr>\n",
       "      <th>2</th>\n",
       "      <td>20801223</td>\n",
       "      <td>2009-04-15</td>\n",
       "      <td>MIA</td>\n",
       "      <td>DET</td>\n",
       "    </tr>\n",
       "    <tr>\n",
       "      <th>3</th>\n",
       "      <td>20801217</td>\n",
       "      <td>2009-04-15</td>\n",
       "      <td>BOS</td>\n",
       "      <td>WAS</td>\n",
       "    </tr>\n",
       "    <tr>\n",
       "      <th>4</th>\n",
       "      <td>20801221</td>\n",
       "      <td>2009-04-15</td>\n",
       "      <td>IND</td>\n",
       "      <td>MIL</td>\n",
       "    </tr>\n",
       "  </tbody>\n",
       "</table>\n",
       "</div>"
      ],
      "text/plain": [
       "    GAME_ID  GAME_DATE HOME_TEAM AWAY_TEAM\n",
       "0  20801229 2009-04-15       PHX       GSW\n",
       "1  20801219 2009-04-15       CLE       PHI\n",
       "2  20801223 2009-04-15       MIA       DET\n",
       "3  20801217 2009-04-15       BOS       WAS\n",
       "4  20801221 2009-04-15       IND       MIL"
      ]
     },
     "execution_count": 20,
     "metadata": {},
     "output_type": "execute_result"
    }
   ],
   "source": [
    "games_df.head()"
   ]
  },
  {
   "cell_type": "code",
   "execution_count": 21,
   "id": "56337a48-21ef-486f-8193-ec2d7d5a099f",
   "metadata": {},
   "outputs": [
    {
     "data": {
      "text/html": [
       "<div>\n",
       "<style scoped>\n",
       "    .dataframe tbody tr th:only-of-type {\n",
       "        vertical-align: middle;\n",
       "    }\n",
       "\n",
       "    .dataframe tbody tr th {\n",
       "        vertical-align: top;\n",
       "    }\n",
       "\n",
       "    .dataframe thead th {\n",
       "        text-align: right;\n",
       "    }\n",
       "</style>\n",
       "<table border=\"1\" class=\"dataframe\">\n",
       "  <thead>\n",
       "    <tr style=\"text-align: right;\">\n",
       "      <th></th>\n",
       "      <th>GAME_ID</th>\n",
       "      <th>PLAYER_ID</th>\n",
       "      <th>TEAM_ID</th>\n",
       "      <th>SHOT_MADE</th>\n",
       "      <th>ACTION_TYPE</th>\n",
       "      <th>SHOT_TYPE</th>\n",
       "      <th>BASIC_ZONE</th>\n",
       "      <th>ZONE_NAME</th>\n",
       "      <th>LOC_X</th>\n",
       "      <th>LOC_Y</th>\n",
       "      <th>SHOT_DISTANCE</th>\n",
       "      <th>QUARTER</th>\n",
       "      <th>MINS_LEFT</th>\n",
       "      <th>SECS_LEFT</th>\n",
       "      <th>EVENT_TYPE</th>\n",
       "    </tr>\n",
       "  </thead>\n",
       "  <tbody>\n",
       "    <tr>\n",
       "      <th>0</th>\n",
       "      <td>20801229</td>\n",
       "      <td>201627</td>\n",
       "      <td>1610612744</td>\n",
       "      <td>True</td>\n",
       "      <td>Driving Layup Shot</td>\n",
       "      <td>2PT Field Goal</td>\n",
       "      <td>Restricted Area</td>\n",
       "      <td>Center</td>\n",
       "      <td>-0.0</td>\n",
       "      <td>5.25</td>\n",
       "      <td>0</td>\n",
       "      <td>4</td>\n",
       "      <td>0</td>\n",
       "      <td>1</td>\n",
       "      <td>Made Shot</td>\n",
       "    </tr>\n",
       "    <tr>\n",
       "      <th>1</th>\n",
       "      <td>20801229</td>\n",
       "      <td>101235</td>\n",
       "      <td>1610612744</td>\n",
       "      <td>False</td>\n",
       "      <td>Layup Shot</td>\n",
       "      <td>2PT Field Goal</td>\n",
       "      <td>Restricted Area</td>\n",
       "      <td>Center</td>\n",
       "      <td>-0.0</td>\n",
       "      <td>5.25</td>\n",
       "      <td>0</td>\n",
       "      <td>4</td>\n",
       "      <td>0</td>\n",
       "      <td>9</td>\n",
       "      <td>Missed Shot</td>\n",
       "    </tr>\n",
       "    <tr>\n",
       "      <th>2</th>\n",
       "      <td>20801229</td>\n",
       "      <td>255</td>\n",
       "      <td>1610612756</td>\n",
       "      <td>True</td>\n",
       "      <td>Layup Shot</td>\n",
       "      <td>2PT Field Goal</td>\n",
       "      <td>Restricted Area</td>\n",
       "      <td>Center</td>\n",
       "      <td>-0.0</td>\n",
       "      <td>5.25</td>\n",
       "      <td>0</td>\n",
       "      <td>4</td>\n",
       "      <td>0</td>\n",
       "      <td>25</td>\n",
       "      <td>Made Shot</td>\n",
       "    </tr>\n",
       "    <tr>\n",
       "      <th>3</th>\n",
       "      <td>20801219</td>\n",
       "      <td>200789</td>\n",
       "      <td>1610612739</td>\n",
       "      <td>True</td>\n",
       "      <td>Driving Layup Shot</td>\n",
       "      <td>2PT Field Goal</td>\n",
       "      <td>Restricted Area</td>\n",
       "      <td>Center</td>\n",
       "      <td>-0.2</td>\n",
       "      <td>5.25</td>\n",
       "      <td>0</td>\n",
       "      <td>5</td>\n",
       "      <td>0</td>\n",
       "      <td>4</td>\n",
       "      <td>Made Shot</td>\n",
       "    </tr>\n",
       "    <tr>\n",
       "      <th>4</th>\n",
       "      <td>20801229</td>\n",
       "      <td>255</td>\n",
       "      <td>1610612756</td>\n",
       "      <td>False</td>\n",
       "      <td>Jump Shot</td>\n",
       "      <td>2PT Field Goal</td>\n",
       "      <td>Mid-Range</td>\n",
       "      <td>Left Side</td>\n",
       "      <td>8.7</td>\n",
       "      <td>7.55</td>\n",
       "      <td>8</td>\n",
       "      <td>4</td>\n",
       "      <td>1</td>\n",
       "      <td>3</td>\n",
       "      <td>Missed Shot</td>\n",
       "    </tr>\n",
       "  </tbody>\n",
       "</table>\n",
       "</div>"
      ],
      "text/plain": [
       "    GAME_ID  PLAYER_ID     TEAM_ID  SHOT_MADE         ACTION_TYPE  \\\n",
       "0  20801229     201627  1610612744       True  Driving Layup Shot   \n",
       "1  20801229     101235  1610612744      False          Layup Shot   \n",
       "2  20801229        255  1610612756       True          Layup Shot   \n",
       "3  20801219     200789  1610612739       True  Driving Layup Shot   \n",
       "4  20801229        255  1610612756      False           Jump Shot   \n",
       "\n",
       "        SHOT_TYPE       BASIC_ZONE  ZONE_NAME  LOC_X  LOC_Y  SHOT_DISTANCE  \\\n",
       "0  2PT Field Goal  Restricted Area     Center   -0.0   5.25              0   \n",
       "1  2PT Field Goal  Restricted Area     Center   -0.0   5.25              0   \n",
       "2  2PT Field Goal  Restricted Area     Center   -0.0   5.25              0   \n",
       "3  2PT Field Goal  Restricted Area     Center   -0.2   5.25              0   \n",
       "4  2PT Field Goal        Mid-Range  Left Side    8.7   7.55              8   \n",
       "\n",
       "   QUARTER  MINS_LEFT  SECS_LEFT   EVENT_TYPE  \n",
       "0        4          0          1    Made Shot  \n",
       "1        4          0          9  Missed Shot  \n",
       "2        4          0         25    Made Shot  \n",
       "3        5          0          4    Made Shot  \n",
       "4        4          1          3  Missed Shot  "
      ]
     },
     "execution_count": 21,
     "metadata": {},
     "output_type": "execute_result"
    }
   ],
   "source": [
    "shots_df.head()"
   ]
  },
  {
   "cell_type": "markdown",
   "id": "df0428cc-326e-4cb9-b76a-24782aa9d929",
   "metadata": {},
   "source": [
    "After splitting into 4 data frames, it was much easier to manage and seek out mistakes and value inconsistencies. The first that was sticking out to me was the difference in formats for `TEAM_NAME` vs `HOME_TEAM` and `AWAY_TEAM`. I had to find a way to merge the columns to create the correlation between those variables.  This proved to be rather messy. "
   ]
  },
  {
   "cell_type": "markdown",
   "id": "2c0e199c-0de7-4c2d-b7f6-8b1c1b8fde0b",
   "metadata": {},
   "source": [
    "I chose to create a dictionary with all of the team abbreviations since there was no clear way to relate them to one another since they do not appear to follow a specific naming convention. "
   ]
  },
  {
   "cell_type": "code",
   "execution_count": 22,
   "id": "2e125bc4-87af-4bec-8e31-bbc2fd49906d",
   "metadata": {},
   "outputs": [
    {
     "data": {
      "text/plain": [
       "array(['PHX', 'CLE', 'MIA', 'BOS', 'IND', 'CHI', 'MIN', 'LAC', 'SAS',\n",
       "       'ORL', 'NYK', 'MEM', 'DAL', 'POR', 'LAL', 'PHI', 'ATL', 'WAS',\n",
       "       'MIL', 'UTA', 'GSW', 'DEN', 'DET', 'NJN', 'HOU', 'TOR', 'SAC',\n",
       "       'NOH', 'OKC', 'CHA', 'SEA', 'BKN', 'NOP', 'NOK'], dtype=object)"
      ]
     },
     "execution_count": 22,
     "metadata": {},
     "output_type": "execute_result"
    }
   ],
   "source": [
    "games_df['HOME_TEAM'].unique()"
   ]
  },
  {
   "cell_type": "code",
   "execution_count": 23,
   "id": "a14a2c84-8333-48cd-bef5-713856e9b278",
   "metadata": {},
   "outputs": [
    {
     "data": {
      "text/plain": [
       "array(['Golden State Warriors', 'Phoenix Suns', 'Cleveland Cavaliers',\n",
       "       'Philadelphia 76ers', 'Detroit Pistons', 'Miami Heat',\n",
       "       'Boston Celtics', 'Washington Wizards', 'Milwaukee Bucks',\n",
       "       'Chicago Bulls', 'Indiana Pacers', 'Minnesota Timberwolves',\n",
       "       'Sacramento Kings', 'Oklahoma City Thunder',\n",
       "       'Los Angeles Clippers', 'Toronto Raptors', 'New Orleans Hornets',\n",
       "       'Charlotte Bobcats', 'Orlando Magic', 'New Jersey Nets',\n",
       "       'Atlanta Hawks', 'New York Knicks', 'San Antonio Spurs',\n",
       "       'Memphis Grizzlies', 'Houston Rockets', 'Dallas Mavericks',\n",
       "       'Denver Nuggets', 'Portland Trail Blazers', 'Utah Jazz',\n",
       "       'Los Angeles Lakers', 'Seattle SuperSonics', 'LA Clippers',\n",
       "       'New Orleans Pelicans', 'Charlotte Hornets', 'Brooklyn Nets',\n",
       "       'New Orleans/Oklahoma City Hornets'], dtype=object)"
      ]
     },
     "execution_count": 23,
     "metadata": {},
     "output_type": "execute_result"
    }
   ],
   "source": [
    "teams_df['TEAM_NAME'].unique()"
   ]
  },
  {
   "cell_type": "code",
   "execution_count": 24,
   "id": "48ae606d-b789-4658-ad38-d4c9300047a5",
   "metadata": {},
   "outputs": [],
   "source": [
    "team_abbreviations = {\n",
    "    \"Golden State Warriors\": \"GSW\",\n",
    "    \"Phoenix Suns\": \"PHX\",\n",
    "    \"Cleveland Cavaliers\": \"CLE\",\n",
    "    \"Philadelphia 76ers\": \"PHI\",\n",
    "    \"Detroit Pistons\": \"DET\",\n",
    "    \"Miami Heat\": \"MIA\",\n",
    "    \"Boston Celtics\": \"BOS\",\n",
    "    \"Chicago Bulls\": \"CHI\",\n",
    "    \"Sacramento Kings\": \"SAC\",\n",
    "    \"Washington Wizards\": \"WAS\",\n",
    "    \"Milwaukee Bucks\": \"MIL\",\n",
    "    \"Indiana Pacers\": \"IND\",\n",
    "    \"Minnesota Timberwolves\": \"MIN\",\n",
    "    \"Oklahoma City Thunder\": \"OKC\",\n",
    "    \"Los Angeles Clippers\": \"LAC\",\n",
    "    \"Toronto Raptors\": \"TOR\",\n",
    "    \"New Orleans Hornets\": \"NOH\",\n",
    "    \"Charlotte Bobcats\": \"CHA\",\n",
    "    \"Orlando Magic\": \"ORL\",\n",
    "    \"New Jersey Nets\": \"NJN\",\n",
    "    \"New York Knicks\": \"NYK\",\n",
    "    \"San Antonio Spurs\": \"SAS\",\n",
    "    \"Memphis Grizzlies\": \"MEM\",\n",
    "    \"Houston Rockets\": \"HOU\",\n",
    "    \"Dallas Mavericks\": \"DAL\",\n",
    "    \"Denver Nuggets\": \"DEN\",\n",
    "    \"Los Angeles Lakers\": \"LAL\",\n",
    "    \"Portland Trail Blazers\": \"POR\",\n",
    "    \"Utah Jazz\": \"UTA\",\n",
    "    \"Seattle SuperSonics\": \"SEA\",\n",
    "    \"Atlanta Hawks\": \"ATL\",\n",
    "    \"Brooklyn Nets\": \"BKN\",\n",
    "    \"Charlotte Hornets\": \"CHA\",\n",
    "    \"New Orleans Pelicans\": \"NOP\",\n",
    "    \"New Orleans/Oklahoma City Hornets\": \"NOK\"\n",
    "}"
   ]
  },
  {
   "cell_type": "code",
   "execution_count": 25,
   "id": "491fc2c5-a35e-4086-bc43-a46383cc1af6",
   "metadata": {},
   "outputs": [],
   "source": [
    "# Mapping the abbreviations within teams_df and then merging the home and away teams\n",
    "teams_df['TEAM_ABBREV'] = teams_df['TEAM_NAME'].map(team_abbreviations)\n",
    "\n",
    "games_df = games_df.merge(teams_df, left_on='HOME_TEAM', right_on='TEAM_ABBREV', suffixes=('', '_HOME'))\n",
    "games_df = games_df.rename(columns={'TEAM_ID': 'HOME_TEAM_ID', 'TEAM_NAME': 'HOME_TEAM_NAME'})\n",
    "games_df = games_df.merge(teams_df, left_on='AWAY_TEAM', right_on='TEAM_ABBREV', suffixes=('', '_AWAY'))\n",
    "games_df = games_df.rename(columns={'TEAM_ID': 'AWAY_TEAM_ID', 'TEAM_NAME': 'AWAY_TEAM_NAME'})\n",
    "\n",
    "# Drop those columns not needed anymore\n",
    "games_df = games_df.drop(columns=['TEAM_ABBREV', 'TEAM_ABBREV_AWAY'])"
   ]
  },
  {
   "cell_type": "code",
   "execution_count": 26,
   "id": "8fa5c894-52be-49fb-b895-004bd32f6e89",
   "metadata": {},
   "outputs": [
    {
     "data": {
      "text/html": [
       "<div>\n",
       "<style scoped>\n",
       "    .dataframe tbody tr th:only-of-type {\n",
       "        vertical-align: middle;\n",
       "    }\n",
       "\n",
       "    .dataframe tbody tr th {\n",
       "        vertical-align: top;\n",
       "    }\n",
       "\n",
       "    .dataframe thead th {\n",
       "        text-align: right;\n",
       "    }\n",
       "</style>\n",
       "<table border=\"1\" class=\"dataframe\">\n",
       "  <thead>\n",
       "    <tr style=\"text-align: right;\">\n",
       "      <th></th>\n",
       "      <th>GAME_ID</th>\n",
       "      <th>GAME_DATE</th>\n",
       "      <th>HOME_TEAM</th>\n",
       "      <th>AWAY_TEAM</th>\n",
       "      <th>HOME_TEAM_ID</th>\n",
       "      <th>HOME_TEAM_NAME</th>\n",
       "      <th>AWAY_TEAM_ID</th>\n",
       "      <th>AWAY_TEAM_NAME</th>\n",
       "    </tr>\n",
       "  </thead>\n",
       "  <tbody>\n",
       "    <tr>\n",
       "      <th>0</th>\n",
       "      <td>20801229</td>\n",
       "      <td>2009-04-15</td>\n",
       "      <td>PHX</td>\n",
       "      <td>GSW</td>\n",
       "      <td>1610612756</td>\n",
       "      <td>Phoenix Suns</td>\n",
       "      <td>1610612744</td>\n",
       "      <td>Golden State Warriors</td>\n",
       "    </tr>\n",
       "    <tr>\n",
       "      <th>1</th>\n",
       "      <td>20800742</td>\n",
       "      <td>2009-02-06</td>\n",
       "      <td>PHX</td>\n",
       "      <td>GSW</td>\n",
       "      <td>1610612756</td>\n",
       "      <td>Phoenix Suns</td>\n",
       "      <td>1610612744</td>\n",
       "      <td>Golden State Warriors</td>\n",
       "    </tr>\n",
       "    <tr>\n",
       "      <th>2</th>\n",
       "      <td>20300562</td>\n",
       "      <td>2004-01-16</td>\n",
       "      <td>PHX</td>\n",
       "      <td>GSW</td>\n",
       "      <td>1610612756</td>\n",
       "      <td>Phoenix Suns</td>\n",
       "      <td>1610612744</td>\n",
       "      <td>Golden State Warriors</td>\n",
       "    </tr>\n",
       "    <tr>\n",
       "      <th>3</th>\n",
       "      <td>20300219</td>\n",
       "      <td>2003-11-28</td>\n",
       "      <td>PHX</td>\n",
       "      <td>GSW</td>\n",
       "      <td>1610612756</td>\n",
       "      <td>Phoenix Suns</td>\n",
       "      <td>1610612744</td>\n",
       "      <td>Golden State Warriors</td>\n",
       "    </tr>\n",
       "    <tr>\n",
       "      <th>4</th>\n",
       "      <td>20900644</td>\n",
       "      <td>2010-01-23</td>\n",
       "      <td>PHX</td>\n",
       "      <td>GSW</td>\n",
       "      <td>1610612756</td>\n",
       "      <td>Phoenix Suns</td>\n",
       "      <td>1610612744</td>\n",
       "      <td>Golden State Warriors</td>\n",
       "    </tr>\n",
       "  </tbody>\n",
       "</table>\n",
       "</div>"
      ],
      "text/plain": [
       "    GAME_ID  GAME_DATE HOME_TEAM AWAY_TEAM  HOME_TEAM_ID HOME_TEAM_NAME  \\\n",
       "0  20801229 2009-04-15       PHX       GSW    1610612756   Phoenix Suns   \n",
       "1  20800742 2009-02-06       PHX       GSW    1610612756   Phoenix Suns   \n",
       "2  20300562 2004-01-16       PHX       GSW    1610612756   Phoenix Suns   \n",
       "3  20300219 2003-11-28       PHX       GSW    1610612756   Phoenix Suns   \n",
       "4  20900644 2010-01-23       PHX       GSW    1610612756   Phoenix Suns   \n",
       "\n",
       "   AWAY_TEAM_ID         AWAY_TEAM_NAME  \n",
       "0    1610612744  Golden State Warriors  \n",
       "1    1610612744  Golden State Warriors  \n",
       "2    1610612744  Golden State Warriors  \n",
       "3    1610612744  Golden State Warriors  \n",
       "4    1610612744  Golden State Warriors  "
      ]
     },
     "execution_count": 26,
     "metadata": {},
     "output_type": "execute_result"
    }
   ],
   "source": [
    "games_df.head()"
   ]
  },
  {
   "cell_type": "markdown",
   "id": "5869d949-3341-408d-811f-e1fe851fcbaf",
   "metadata": {},
   "source": [
    "The `shots_df` needed a bit more tidying. I chose to combine the `LOC_X` and `LOC_Y` into a single column that represents a coordinate."
   ]
  },
  {
   "cell_type": "code",
   "execution_count": 27,
   "id": "4cc55157-234d-4656-9886-4d1a4d40e039",
   "metadata": {},
   "outputs": [
    {
     "data": {
      "text/html": [
       "<div>\n",
       "<style scoped>\n",
       "    .dataframe tbody tr th:only-of-type {\n",
       "        vertical-align: middle;\n",
       "    }\n",
       "\n",
       "    .dataframe tbody tr th {\n",
       "        vertical-align: top;\n",
       "    }\n",
       "\n",
       "    .dataframe thead th {\n",
       "        text-align: right;\n",
       "    }\n",
       "</style>\n",
       "<table border=\"1\" class=\"dataframe\">\n",
       "  <thead>\n",
       "    <tr style=\"text-align: right;\">\n",
       "      <th></th>\n",
       "      <th>GAME_ID</th>\n",
       "      <th>PLAYER_ID</th>\n",
       "      <th>TEAM_ID</th>\n",
       "      <th>SHOT_MADE</th>\n",
       "      <th>ACTION_TYPE</th>\n",
       "      <th>SHOT_TYPE</th>\n",
       "      <th>BASIC_ZONE</th>\n",
       "      <th>ZONE_NAME</th>\n",
       "      <th>SHOT_DISTANCE</th>\n",
       "      <th>QUARTER</th>\n",
       "      <th>MINS_LEFT</th>\n",
       "      <th>SECS_LEFT</th>\n",
       "      <th>EVENT_TYPE</th>\n",
       "      <th>LOCATION</th>\n",
       "    </tr>\n",
       "  </thead>\n",
       "  <tbody>\n",
       "    <tr>\n",
       "      <th>0</th>\n",
       "      <td>20801229</td>\n",
       "      <td>201627</td>\n",
       "      <td>1610612744</td>\n",
       "      <td>True</td>\n",
       "      <td>Driving Layup Shot</td>\n",
       "      <td>2PT Field Goal</td>\n",
       "      <td>Restricted Area</td>\n",
       "      <td>Center</td>\n",
       "      <td>0</td>\n",
       "      <td>4</td>\n",
       "      <td>0</td>\n",
       "      <td>1</td>\n",
       "      <td>Made Shot</td>\n",
       "      <td>(-0.0, 5.25)</td>\n",
       "    </tr>\n",
       "    <tr>\n",
       "      <th>1</th>\n",
       "      <td>20801229</td>\n",
       "      <td>101235</td>\n",
       "      <td>1610612744</td>\n",
       "      <td>False</td>\n",
       "      <td>Layup Shot</td>\n",
       "      <td>2PT Field Goal</td>\n",
       "      <td>Restricted Area</td>\n",
       "      <td>Center</td>\n",
       "      <td>0</td>\n",
       "      <td>4</td>\n",
       "      <td>0</td>\n",
       "      <td>9</td>\n",
       "      <td>Missed Shot</td>\n",
       "      <td>(-0.0, 5.25)</td>\n",
       "    </tr>\n",
       "    <tr>\n",
       "      <th>2</th>\n",
       "      <td>20801229</td>\n",
       "      <td>255</td>\n",
       "      <td>1610612756</td>\n",
       "      <td>True</td>\n",
       "      <td>Layup Shot</td>\n",
       "      <td>2PT Field Goal</td>\n",
       "      <td>Restricted Area</td>\n",
       "      <td>Center</td>\n",
       "      <td>0</td>\n",
       "      <td>4</td>\n",
       "      <td>0</td>\n",
       "      <td>25</td>\n",
       "      <td>Made Shot</td>\n",
       "      <td>(-0.0, 5.25)</td>\n",
       "    </tr>\n",
       "    <tr>\n",
       "      <th>3</th>\n",
       "      <td>20801219</td>\n",
       "      <td>200789</td>\n",
       "      <td>1610612739</td>\n",
       "      <td>True</td>\n",
       "      <td>Driving Layup Shot</td>\n",
       "      <td>2PT Field Goal</td>\n",
       "      <td>Restricted Area</td>\n",
       "      <td>Center</td>\n",
       "      <td>0</td>\n",
       "      <td>5</td>\n",
       "      <td>0</td>\n",
       "      <td>4</td>\n",
       "      <td>Made Shot</td>\n",
       "      <td>(-0.2, 5.25)</td>\n",
       "    </tr>\n",
       "    <tr>\n",
       "      <th>4</th>\n",
       "      <td>20801229</td>\n",
       "      <td>255</td>\n",
       "      <td>1610612756</td>\n",
       "      <td>False</td>\n",
       "      <td>Jump Shot</td>\n",
       "      <td>2PT Field Goal</td>\n",
       "      <td>Mid-Range</td>\n",
       "      <td>Left Side</td>\n",
       "      <td>8</td>\n",
       "      <td>4</td>\n",
       "      <td>1</td>\n",
       "      <td>3</td>\n",
       "      <td>Missed Shot</td>\n",
       "      <td>(8.7, 7.55)</td>\n",
       "    </tr>\n",
       "  </tbody>\n",
       "</table>\n",
       "</div>"
      ],
      "text/plain": [
       "    GAME_ID  PLAYER_ID     TEAM_ID  SHOT_MADE         ACTION_TYPE  \\\n",
       "0  20801229     201627  1610612744       True  Driving Layup Shot   \n",
       "1  20801229     101235  1610612744      False          Layup Shot   \n",
       "2  20801229        255  1610612756       True          Layup Shot   \n",
       "3  20801219     200789  1610612739       True  Driving Layup Shot   \n",
       "4  20801229        255  1610612756      False           Jump Shot   \n",
       "\n",
       "        SHOT_TYPE       BASIC_ZONE  ZONE_NAME  SHOT_DISTANCE  QUARTER  \\\n",
       "0  2PT Field Goal  Restricted Area     Center              0        4   \n",
       "1  2PT Field Goal  Restricted Area     Center              0        4   \n",
       "2  2PT Field Goal  Restricted Area     Center              0        4   \n",
       "3  2PT Field Goal  Restricted Area     Center              0        5   \n",
       "4  2PT Field Goal        Mid-Range  Left Side              8        4   \n",
       "\n",
       "   MINS_LEFT  SECS_LEFT   EVENT_TYPE      LOCATION  \n",
       "0          0          1    Made Shot  (-0.0, 5.25)  \n",
       "1          0          9  Missed Shot  (-0.0, 5.25)  \n",
       "2          0         25    Made Shot  (-0.0, 5.25)  \n",
       "3          0          4    Made Shot  (-0.2, 5.25)  \n",
       "4          1          3  Missed Shot   (8.7, 7.55)  "
      ]
     },
     "execution_count": 27,
     "metadata": {},
     "output_type": "execute_result"
    }
   ],
   "source": [
    "shots_df['LOCATION'] = list(zip(shots_df['LOC_X'], shots_df['LOC_Y']))\n",
    "shots_df = shots_df.drop(columns=['LOC_X', 'LOC_Y'])\n",
    "shots_df.head()"
   ]
  },
  {
   "cell_type": "markdown",
   "id": "ba453287-80c7-437a-8657-0ef201e7a583",
   "metadata": {},
   "source": [
    "Also, being completely transparent (will delete this by Milestone 3) but I tried to combine the `MINS_LEFT` and `SECS_LEFT` but that proved to be an even bigger headache as the kernel crashed with everything I attempted so, for now, I will keep `shots_df` in its current state."
   ]
  },
  {
   "cell_type": "markdown",
   "id": "ff3d383f-e90b-473c-a27a-22e47d91c4c5",
   "metadata": {},
   "source": [
    "## The Graphs + Summary Statistics\n",
    "\n",
    "Before I went into my two pitches, I first wanted to experiement some more with the data to use more EDA techniques that we discussed and for me to understand the data a bit more than the 3 analysis examples from earlier."
   ]
  },
  {
   "cell_type": "markdown",
   "id": "e627ed9c-9e94-4547-a2b7-8a210ae09c3b",
   "metadata": {},
   "source": [
    "I wanted to do a histogram on the shot distance distribution."
   ]
  },
  {
   "cell_type": "code",
   "execution_count": 28,
   "id": "6ad26982-9bc5-4308-ad88-5c4af3c89da7",
   "metadata": {},
   "outputs": [
    {
     "data": {
      "image/png": "[encoded data removed]",
      "text/plain": [
       "<Figure size 640x480 with 1 Axes>"
      ]
     },
     "metadata": {},
     "output_type": "display_data"
    }
   ],
   "source": [
    "plt.figure()\n",
    "shots_df['SHOT_DISTANCE'].plot(kind='hist', bins=20)\n",
    "plt.title('Shot Distance Distribution')\n",
    "plt.xlabel('Distance (feet)')\n",
    "plt.ylabel('Frequency')\n",
    "plt.show()"
   ]
  },
  {
   "cell_type": "code",
   "execution_count": 29,
   "id": "79c29289-3f8c-4f4c-a3dd-9a738aa4d5d1",
   "metadata": {},
   "outputs": [
    {
     "name": "stdout",
     "output_type": "stream",
     "text": [
      "Mean Shot Distance: 12.561171820605768\n",
      "Median Shot Distance: 13.0\n",
      "Standard Deviation of Shot Distance: 10.123746327649515\n",
      "Minimum Shot Distance: 0\n",
      "Maximum Shot Distance: 89\n"
     ]
    }
   ],
   "source": [
    "#To get more definitive stats\n",
    "shot_distance_mean = shots_df['SHOT_DISTANCE'].mean()\n",
    "shot_distance_median = shots_df['SHOT_DISTANCE'].median()\n",
    "shot_distance_std = shots_df['SHOT_DISTANCE'].std()\n",
    "shot_distance_min = shots_df['SHOT_DISTANCE'].min()\n",
    "shot_distance_max = shots_df['SHOT_DISTANCE'].max()\n",
    "\n",
    "print(f\"Mean Shot Distance: {shot_distance_mean}\")\n",
    "print(f\"Median Shot Distance: {shot_distance_median}\")\n",
    "print(f\"Standard Deviation of Shot Distance: {shot_distance_std}\")\n",
    "print(f\"Minimum Shot Distance: {shot_distance_min}\")\n",
    "print(f\"Maximum Shot Distance: {shot_distance_max}\")"
   ]
  },
  {
   "cell_type": "markdown",
   "id": "42ac85dc-0457-4ff1-ae6d-bfae88ce9c49",
   "metadata": {},
   "source": [
    "**Analysis:** It would appear that the histogram reveals a high frequency of shots at shorter distances, with a significant drop as the distance increases. Which is to be expected, that players will take and make the closer shots like layups and fewer shots from longer distances."
   ]
  },
  {
   "cell_type": "markdown",
   "id": "ab1f4302-bffb-4e48-ab5a-37c81b3176db",
   "metadata": {},
   "source": [
    "Success Rate by Quarter: By taking the percentage of made shots across each quarter, to see variations within shooting performance, to see if they either fatigue or end up having clutch performance."
   ]
  },
  {
   "cell_type": "code",
   "execution_count": 30,
   "id": "0de19ad2-7a6d-4609-b645-833b1bbead3a",
   "metadata": {},
   "outputs": [
    {
     "data": {
      "image/png": "[encoded data removed]",
      "text/plain": [
       "<Figure size 640x480 with 1 Axes>"
      ]
     },
     "metadata": {},
     "output_type": "display_data"
    }
   ],
   "source": [
    "quarter_success_rate = shots_df.groupby('QUARTER')['SHOT_MADE'].mean() * 100\n",
    "plt.figure()\n",
    "quarter_success_rate.plot(kind='bar')\n",
    "plt.title('Shot Success Rate by Quarter')\n",
    "plt.xlabel('Quarter')\n",
    "plt.ylabel('Success Rate (%)')\n",
    "plt.show()"
   ]
  },
  {
   "cell_type": "code",
   "execution_count": 31,
   "id": "42b9fcdb-b63c-4cd5-b2cb-fb8912160df9",
   "metadata": {},
   "outputs": [
    {
     "name": "stdout",
     "output_type": "stream",
     "text": [
      "Mean Success Rate: 43.84611734372335%\n",
      "Standard Deviation of Success Rate: 2.6000260987341552%\n",
      "Highest Success Rate: 46.71568583007698%\n",
      "Lowest Success Rate: 40.21543985637343%\n"
     ]
    }
   ],
   "source": [
    "# Summary Statistics for this graph\n",
    "quarter_success_rate = shots_df.groupby('QUARTER')['SHOT_MADE'].mean() * 100\n",
    "mean_success_rate = quarter_success_rate.mean()\n",
    "std_success_rate = quarter_success_rate.std()\n",
    "max_success_rate = quarter_success_rate.max()\n",
    "min_success_rate = quarter_success_rate.min()\n",
    "\n",
    "print(f\"Mean Success Rate: {mean_success_rate}%\")\n",
    "print(f\"Standard Deviation of Success Rate: {std_success_rate}%\")\n",
    "print(f\"Highest Success Rate: {max_success_rate}%\")\n",
    "print(f\"Lowest Success Rate: {min_success_rate}%\")"
   ]
  },
  {
   "cell_type": "markdown",
   "id": "c2c6e7da-6df2-42c1-b2ba-9ce9fadc7549",
   "metadata": {},
   "source": [
    "**Analysis:**  It would appear that the shot success rate by quarter shows a moderate consistency across quarters, with an average success rate of around 43.85%. However, there is a small fluctuation, as reflected by the standard deviation of 2.60%. We can point out that the highest success rate was in the 1st quarter, at 46.72%, suggesting that the players may start the game with better energy and accuracy."
   ]
  },
  {
   "cell_type": "markdown",
   "id": "5385a690-9c92-46b0-b2f9-a8ed8925609d",
   "metadata": {},
   "source": [
    "### Question 1: Can we predict whether a player will make or miss a clutch shot based on the shot location and amount time left in the 4th quarter?\n",
    "\n",
    "Features:\n",
    "Shot location (`LOC_X`, `LOC_Y`)\n",
    "Shot distance (`SHOT_DISTANCE`)\n",
    "Time left in the quarter (`MINS_LEFT`, `SECS_LEFT`)\n",
    "Quarter of the game (`QUARTER`)\n",
    "Player data (`PLAYER_ID`, `POSITION`)\n",
    "Team data (`TEAM_ID`)\n",
    "\n",
    "I would use a classification model (Logistic Regression for interpretability, or Random Forest for capturing complex interactions) to analyze the relationship between shot attributes and outcomes in clutch situations, defined as shots taken in the last few minutes of close games."
   ]
  },
  {
   "cell_type": "markdown",
   "id": "71f54609-5b72-49b4-8506-9f07256167ce",
   "metadata": {},
   "source": [
    "**Initial Start to Model:** I would initally filter for clutch situations, for this instance, just in the 4th quarter with less than 2 minutes left. I struggled to figure out what is the true example of a clutch shot, but within the last quarter with two minutes left seem to be the correct way. As I typed this out, it may be a headache, but I could also include a dataset where it includes who won these games and the score, that way I could get even more definitive on a clutch shot."
   ]
  },
  {
   "cell_type": "markdown",
   "id": "d7210140-ad7f-415e-9b6b-6f068cd5eccc",
   "metadata": {},
   "source": [
    "### Question 2: Is there a statistically significant relationship between shot distance and shot success rate?\n",
    "This one may not be as complex as needed for the project, but still wanted to throw it out there to analyze. \n",
    "Independent Variable: Shot distance (`SHOT_DISTANCE`)\n",
    "\n",
    "Dependent Variable: Shot success\n",
    "\n",
    "This one would use logistic regression to examine the likelihood of making a shot as a function of distance, while controlling for additional factors like `PLAYER_ID` and shot context (`QUARTER`, `SECS_LEFT`). This model would help quantify how shot success probability changes with distance, potentially identifying optimal shooting ranges for players."
   ]
  },
  {
   "cell_type": "markdown",
   "id": "b046bc63-22ba-4a8b-9e85-d917c3ce9110",
   "metadata": {},
   "source": [
    "**Initial Start to Model:** As I researched this one, it could be fairly easy and done whenever I fully learn from the following module so this might not be the one to do, since I could use the `SHOT_DISTANCE` as the primary feature and `SHOT_MADE` as the target. From looking forward in Module 11 and Demo 11, it appears that I should be able to easily create a logistic regression model for this question."
   ]
  },
  {
   "cell_type": "markdown",
   "id": "3b541d88-4129-4493-8eb4-8c91d2c03299",
   "metadata": {},
   "source": [
    "I could use [Statsmodels](https://www.statsmodels.org/stable/index.html) , where it gives a much more R-like interface to linear modeling. Then I can define the feature and target, but after that it got a bit confusing on if or what constant/variable I needed and how to fully carry out and correctly display the logistic regression. "
   ]
  },
  {
   "cell_type": "code",
   "execution_count": null,
   "id": "b9126a9f-8479-4839-8ace-50cffa4f84ae",
   "metadata": {},
   "outputs": [],
   "source": []
  }
 ],
 "metadata": {
  "colab": {
   "provenance": []
  },
  "kernelspec": {
   "display_name": "Python 3 (ipykernel)",
   "language": "python",
   "name": "python3"
  },
  "language_info": {
   "codemirror_mode": {
    "name": "ipython",
    "version": 3
   },
   "file_extension": ".py",
   "mimetype": "text/x-python",
   "name": "python",
   "nbconvert_exporter": "python",
   "pygments_lexer": "ipython3",
   "version": "3.11.6"
  },
  "toc": {
   "base_numbering": 1,
   "nav_menu": {},
   "number_sections": false,
   "sideBar": true,
   "skip_h1_title": true,
   "title_cell": "Table of Contents",
   "title_sidebar": "Contents",
   "toc_cell": true,
   "toc_position": {},
   "toc_section_display": true,
   "toc_window_display": false
  },
  "vscode": {
   "interpreter": {
    "hash": "aee8b7b246df8f9039afb4144a1f6fd8d2ca17a180786b69acc140d282b71a49"
   }
  }
 },
 "nbformat": 4,
 "nbformat_minor": 5
}
